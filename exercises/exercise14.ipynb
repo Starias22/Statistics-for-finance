{
 "cells": [
  {
   "cell_type": "code",
   "execution_count": 26,
   "id": "e5688c89",
   "metadata": {},
   "outputs": [
    {
     "name": "stdout",
     "output_type": "stream",
     "text": [
      "sigma squared: 189.4106020419289\n",
      "mu: 71.36245122609756\n"
     ]
    }
   ],
   "source": [
    "from scipy.stats import norm\n",
    "from numpy import power\n",
    "\n",
    "p1 = 0.90\n",
    "p2=0.95\n",
    "\n",
    "sigma=5/(norm.ppf(p2)-norm.ppf(p1))\n",
    "sigma_squared=power(sigma,2)\n",
    "mu=89-sigma*norm.ppf(0.90)\n",
    "\n",
    "print('sigma squared:',sigma_squared)\n",
    "print('mu:',mu)"
   ]
  }
 ],
 "metadata": {
  "kernelspec": {
   "display_name": "Python 3 (ipykernel)",
   "language": "python",
   "name": "python3"
  },
  "language_info": {
   "codemirror_mode": {
    "name": "ipython",
    "version": 3
   },
   "file_extension": ".py",
   "mimetype": "text/x-python",
   "name": "python",
   "nbconvert_exporter": "python",
   "pygments_lexer": "ipython3",
   "version": "3.10.12"
  }
 },
 "nbformat": 4,
 "nbformat_minor": 5
}
