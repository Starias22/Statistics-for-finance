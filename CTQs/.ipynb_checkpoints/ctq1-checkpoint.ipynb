{
 "cells": [
  {
   "cell_type": "code",
   "execution_count": 45,
   "id": "20a5f03b",
   "metadata": {},
   "outputs": [
    {
     "name": "stdout",
     "output_type": "stream",
     "text": [
      "Help on built-in function isqrt in module math:\n",
      "\n",
      "isqrt(n, /)\n",
      "    Return the integer part of the square root of the input.\n",
      "\n",
      "2\n"
     ]
    }
   ],
   "source": [
    "import numpy as np\n",
    "import math"
   ]
  },
  {
   "cell_type": "code",
   "execution_count": 55,
   "id": "2fe16c41",
   "metadata": {},
   "outputs": [],
   "source": [
    "def solver(X):\n",
    "    Y=np.zeros(3,dtype=int)\n",
    "    for i in range(6):\n",
    "        for j in range(6):\n",
    "            if X[i,j]<10:\n",
    "                Y[0]+=1\n",
    "                print((i+1,j+1),' ; ',end='')\n",
    "\n",
    "    print('************************************')            \n",
    "    for i in range(6):\n",
    "        for j in range(6):\n",
    "            if X[i,j]>40:\n",
    "                Y[1]+=1\n",
    "                print((i+1,j+1),' ; ',end='') \n",
    "\n",
    "    print('************************************')            \n",
    "    for i in range(6):\n",
    "        for j in range(6):\n",
    "            if math.isqrt(X[i,j])**2==X[i,j]:\n",
    "                Y[2]+=1\n",
    "                print((i+1,j+1),' ; ',end='')\n",
    "    print(Y)\n",
    "                \n",
    "X=np.zeros((6,6),dtype=int)                "
   ]
  },
  {
   "cell_type": "markdown",
   "id": "8eec1c0e",
   "metadata": {},
   "source": [
    "## X(i,j)=i²+j²"
   ]
  },
  {
   "cell_type": "code",
   "execution_count": 56,
   "id": "fbc711e7",
   "metadata": {},
   "outputs": [
    {
     "name": "stdout",
     "output_type": "stream",
     "text": [
      "[[ 2  5 10 17 26 37]\n",
      " [ 5  8 13 20 29 40]\n",
      " [10 13 18 25 34 45]\n",
      " [17 20 25 32 41 52]\n",
      " [26 29 34 41 50 61]\n",
      " [37 40 45 52 61 72]]\n",
      "(1, 1)  ; (1, 2)  ; (2, 1)  ; (2, 2)  ; ************************************\n",
      "(3, 6)  ; (4, 5)  ; (4, 6)  ; (5, 4)  ; (5, 5)  ; (5, 6)  ; (6, 3)  ; (6, 4)  ; (6, 5)  ; (6, 6)  ; ************************************\n",
      "(3, 4)  ; (4, 3)  ; [ 4 10  2]\n"
     ]
    }
   ],
   "source": [
    "for i in range(6):\n",
    "    for j in range(6):\n",
    "        X[i,j]=(i+1)**2+(j+1)**2\n",
    "print(X)\n",
    "solver(X)"
   ]
  },
  {
   "cell_type": "markdown",
   "id": "cb40b902",
   "metadata": {},
   "source": [
    "## X(i,j)=i²+j"
   ]
  },
  {
   "cell_type": "code",
   "execution_count": 57,
   "id": "10767199",
   "metadata": {},
   "outputs": [
    {
     "name": "stdout",
     "output_type": "stream",
     "text": [
      "[[ 2  3  4  5  6  7]\n",
      " [ 5  6  7  8  9 10]\n",
      " [10 11 12 13 14 15]\n",
      " [17 18 19 20 21 22]\n",
      " [26 27 28 29 30 31]\n",
      " [37 38 39 40 41 42]]\n",
      "(1, 1)  ; (1, 2)  ; (1, 3)  ; (1, 4)  ; (1, 5)  ; (1, 6)  ; (2, 1)  ; (2, 2)  ; (2, 3)  ; (2, 4)  ; (2, 5)  ; ************************************\n",
      "(6, 5)  ; (6, 6)  ; ************************************\n",
      "(1, 3)  ; (2, 5)  ; [11  2  2]\n"
     ]
    }
   ],
   "source": [
    "for i in range(6):\n",
    "    for j in range(6):\n",
    "        X[i,j]=(i+1)**2+(j+1)\n",
    "print(X)\n",
    "solver(X)\n"
   ]
  },
  {
   "cell_type": "markdown",
   "id": "e119375f",
   "metadata": {},
   "source": [
    "## X(i,j)=i+j²"
   ]
  },
  {
   "cell_type": "code",
   "execution_count": 60,
   "id": "1d9e6938",
   "metadata": {},
   "outputs": [
    {
     "name": "stdout",
     "output_type": "stream",
     "text": [
      "[[ 2  5 10 17 26 37]\n",
      " [ 3  6 11 18 27 38]\n",
      " [ 4  7 12 19 28 39]\n",
      " [ 5  8 13 20 29 40]\n",
      " [ 6  9 14 21 30 41]\n",
      " [ 7 10 15 22 31 42]]\n",
      "(1, 1)  ; (1, 2)  ; (2, 1)  ; (2, 2)  ; (3, 1)  ; (3, 2)  ; (4, 1)  ; (4, 2)  ; (5, 1)  ; (5, 2)  ; (6, 1)  ; ************************************\n",
      "(5, 6)  ; (6, 6)  ; ************************************\n",
      "(3, 1)  ; (5, 2)  ; [11  2  2]\n"
     ]
    }
   ],
   "source": [
    "for i in range(6):\n",
    "    for j in range(6):\n",
    "        X[i,j]=(i+1)+(j+1)**2\n",
    "print(X)\n",
    "solver(X)"
   ]
  },
  {
   "cell_type": "markdown",
   "id": "117ab684",
   "metadata": {},
   "source": [
    "## X(i,j)=(i+j)²"
   ]
  },
  {
   "cell_type": "code",
   "execution_count": 61,
   "id": "1744acc4",
   "metadata": {},
   "outputs": [
    {
     "name": "stdout",
     "output_type": "stream",
     "text": [
      "[[  4   9  16  25  36  49]\n",
      " [  9  16  25  36  49  64]\n",
      " [ 16  25  36  49  64  81]\n",
      " [ 25  36  49  64  81 100]\n",
      " [ 36  49  64  81 100 121]\n",
      " [ 49  64  81 100 121 144]]\n",
      "(1, 1)  ; (1, 2)  ; (2, 1)  ; ************************************\n",
      "(1, 6)  ; (2, 5)  ; (2, 6)  ; (3, 4)  ; (3, 5)  ; (3, 6)  ; (4, 3)  ; (4, 4)  ; (4, 5)  ; (4, 6)  ; (5, 2)  ; (5, 3)  ; (5, 4)  ; (5, 5)  ; (5, 6)  ; (6, 1)  ; (6, 2)  ; (6, 3)  ; (6, 4)  ; (6, 5)  ; (6, 6)  ; ************************************\n",
      "(1, 1)  ; (1, 2)  ; (1, 3)  ; (1, 4)  ; (1, 5)  ; (1, 6)  ; (2, 1)  ; (2, 2)  ; (2, 3)  ; (2, 4)  ; (2, 5)  ; (2, 6)  ; (3, 1)  ; (3, 2)  ; (3, 3)  ; (3, 4)  ; (3, 5)  ; (3, 6)  ; (4, 1)  ; (4, 2)  ; (4, 3)  ; (4, 4)  ; (4, 5)  ; (4, 6)  ; (5, 1)  ; (5, 2)  ; (5, 3)  ; (5, 4)  ; (5, 5)  ; (5, 6)  ; (6, 1)  ; (6, 2)  ; (6, 3)  ; (6, 4)  ; (6, 5)  ; (6, 6)  ; [ 3 21 36]\n"
     ]
    }
   ],
   "source": [
    "for i in range(6):\n",
    "    for j in range(6):\n",
    "        X[i,j]=(i+j+2)**2\n",
    "print(X)\n",
    "solver(X)"
   ]
  }
 ],
 "metadata": {
  "kernelspec": {
   "display_name": "Python 3 (ipykernel)",
   "language": "python",
   "name": "python3"
  },
  "language_info": {
   "codemirror_mode": {
    "name": "ipython",
    "version": 3
   },
   "file_extension": ".py",
   "mimetype": "text/x-python",
   "name": "python",
   "nbconvert_exporter": "python",
   "pygments_lexer": "ipython3",
   "version": "3.10.12"
  }
 },
 "nbformat": 4,
 "nbformat_minor": 5
}
