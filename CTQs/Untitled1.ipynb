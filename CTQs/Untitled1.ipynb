{
 "cells": [
  {
   "cell_type": "code",
   "execution_count": 19,
   "id": "5f331d19",
   "metadata": {},
   "outputs": [
    {
     "data": {
      "text/html": [
       "0.931565310166133"
      ],
      "text/latex": [
       "0.931565310166133"
      ],
      "text/markdown": [
       "0.931565310166133"
      ],
      "text/plain": [
       "[1] 0.9315653"
      ]
     },
     "metadata": {},
     "output_type": "display_data"
    }
   ],
   "source": [
    "#R code in jupyter notebook\n",
    "n= 9\n",
    "p= 1/3\n",
    "\n",
    "mu= n * p  # Mean\n",
    "sigma =sqrt(n * p * (1 - p))  # Standard deviation\n",
    "\n",
    "#pbinom is the CDF\n",
    "proba= pbinom(mu + 2 * sigma, size = n, prob = p) - pbinom(mu - 2 * sigma, size = n, prob = p)\n",
    "proba"
   ]
  },
  {
   "cell_type": "code",
   "execution_count": null,
   "id": "994c2520",
   "metadata": {},
   "outputs": [],
   "source": []
  }
 ],
 "metadata": {
  "kernelspec": {
   "display_name": "R",
   "language": "R",
   "name": "ir"
  },
  "language_info": {
   "codemirror_mode": "r",
   "file_extension": ".r",
   "mimetype": "text/x-r-source",
   "name": "R",
   "pygments_lexer": "r",
   "version": "4.1.2"
  }
 },
 "nbformat": 4,
 "nbformat_minor": 5
}
