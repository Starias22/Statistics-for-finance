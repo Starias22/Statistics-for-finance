{
 "cells": [
  {
   "cell_type": "code",
   "execution_count": 3,
   "id": "218b0c80",
   "metadata": {},
   "outputs": [
    {
     "ename": "ERROR",
     "evalue": "Error in plot(x, y, type = \"l\", col = \"blue\", xlab = \"x\", ylab = \"f(x)\", : object 'x' not found\n",
     "output_type": "error",
     "traceback": [
      "Error in plot(x, y, type = \"l\", col = \"blue\", xlab = \"x\", ylab = \"f(x)\", : object 'x' not found\nTraceback:\n",
      "1. plot(x, y, type = \"l\", col = \"blue\", xlab = \"x\", ylab = \"f(x)\", \n .     main = \"Plot of f(x) = x^2\")"
     ]
    }
   ],
   "source": [
    "# Define a function\n",
    "f = function(alpha,beta,x) {\n",
    "  result =1/gamma(5)\n",
    "  return(result)\n",
    "}\n",
    "\n",
    "y=f(0.5,2,10)\n",
    "plot(x, y, type = \"l\", col = \"blue\", xlab = \"x\", ylab = \"f(x)\", main = \"Plot of f(x) = x^2\")\n",
    "print(result) \n"
   ]
  },
  {
   "cell_type": "code",
   "execution_count": null,
   "id": "4d1cee6a",
   "metadata": {},
   "outputs": [],
   "source": []
  }
 ],
 "metadata": {
  "kernelspec": {
   "display_name": "Python 3 (ipykernel)",
   "language": "python",
   "name": "python3"
  },
  "language_info": {
   "codemirror_mode": {
    "name": "ipython",
    "version": 3
   },
   "file_extension": ".py",
   "mimetype": "text/x-python",
   "name": "python",
   "nbconvert_exporter": "python",
   "pygments_lexer": "ipython3",
   "version": "3.10.12"
  }
 },
 "nbformat": 4,
 "nbformat_minor": 5
}
