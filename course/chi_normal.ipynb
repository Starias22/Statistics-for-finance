{
 "cells": [
  {
   "cell_type": "code",
   "execution_count": 3,
   "id": "f34aa3c0",
   "metadata": {},
   "outputs": [],
   "source": [
    "import numpy as np\n",
    "import matplotlib.pyplot as plt\n",
    "\n",
    "# Parameters for the normal distribution\n",
    "mu = 0  # Mean\n",
    "sigma = 1  # Standard deviation\n"
   ]
  },
  {
   "cell_type": "code",
   "execution_count": 2,
   "id": "dd58eac5",
   "metadata": {},
   "outputs": [
    {
     "data": {
      "text/plain": [
       "(array([0.00108506, 0.        , 0.        , 0.        , 0.        ,\n",
       "        0.        , 0.        , 0.        , 0.        , 0.00108506,\n",
       "        0.        , 0.        , 0.        , 0.        , 0.        ,\n",
       "        0.        , 0.        , 0.        , 0.        , 0.00217012,\n",
       "        0.        , 0.        , 0.00108506, 0.00108506, 0.        ,\n",
       "        0.00217012, 0.00108506, 0.00325518, 0.00651036, 0.0054253 ,\n",
       "        0.01519083, 0.02929661, 0.0564231 , 0.15299339, 0.30381667,\n",
       "        0.28320054, 0.12803703, 0.0455725 , 0.01736095, 0.00868048,\n",
       "        0.00217012, 0.00651036, 0.00108506, 0.        , 0.00217012,\n",
       "        0.00217012, 0.00217012, 0.        , 0.00108506, 0.00217012]),\n",
       " array([-32.11707244, -31.19546402, -30.27385561, -29.35224719,\n",
       "        -28.43063877, -27.50903036, -26.58742194, -25.66581353,\n",
       "        -24.74420511, -23.8225967 , -22.90098828, -21.97937987,\n",
       "        -21.05777145, -20.13616303, -19.21455462, -18.2929462 ,\n",
       "        -17.37133779, -16.44972937, -15.52812096, -14.60651254,\n",
       "        -13.68490413, -12.76329571, -11.8416873 , -10.92007888,\n",
       "         -9.99847046,  -9.07686205,  -8.15525363,  -7.23364522,\n",
       "         -6.3120368 ,  -5.39042839,  -4.46881997,  -3.54721156,\n",
       "         -2.62560314,  -1.70399473,  -0.78238631,   0.13922211,\n",
       "          1.06083052,   1.98243894,   2.90404735,   3.82565577,\n",
       "          4.74726418,   5.6688726 ,   6.59048101,   7.51208943,\n",
       "          8.43369785,   9.35530626,  10.27691468,  11.19852309,\n",
       "         12.12013151,  13.04173992,  13.96334834]),\n",
       " <BarContainer object of 50 artists>)"
      ]
     },
     "execution_count": 2,
     "metadata": {},
     "output_type": "execute_result"
    },
    {
     "data": {
      "image/png": "[encoded data removed]",
      "text/plain": [
       "<Figure size 432x288 with 1 Axes>"
      ]
     },
     "metadata": {
      "needs_background": "light"
     },
     "output_type": "display_data"
    }
   ],
   "source": [
    "W = np.random.normal(0, 1, 1000) \n",
    "V= np.random.chisquare(2, 1000)  \n",
    "\n",
    "T=W/np.sqrt(V/2)\n",
    "plt.hist(T, bins=50, density=True, alpha=0.7, color='skyblue', edgecolor='black')"
   ]
  },
  {
   "cell_type": "code",
   "execution_count": null,
   "id": "3e06513a",
   "metadata": {},
   "outputs": [],
   "source": []
  }
 ],
 "metadata": {
  "kernelspec": {
   "display_name": "Python 3 (ipykernel)",
   "language": "python",
   "name": "python3"
  },
  "language_info": {
   "codemirror_mode": {
    "name": "ipython",
    "version": 3
   },
   "file_extension": ".py",
   "mimetype": "text/x-python",
   "name": "python",
   "nbconvert_exporter": "python",
   "pygments_lexer": "ipython3",
   "version": "3.10.12"
  }
 },
 "nbformat": 4,
 "nbformat_minor": 5
}
